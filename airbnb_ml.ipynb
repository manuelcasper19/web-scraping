{
  "nbformat": 4,
  "nbformat_minor": 0,
  "metadata": {
    "colab": {
      "provenance": []
    },
    "kernelspec": {
      "name": "python3",
      "display_name": "Python 3"
    },
    "language_info": {
      "name": "python"
    }
  },
  "cells": [
    {
      "cell_type": "code",
      "execution_count": null,
      "metadata": {
        "id": "R38U8EpiCaV6"
      },
      "outputs": [],
      "source": [
        "import pandas as pd\n",
        "import numpy as np\n",
        "from sklearn.model_selection import train_test_split"
      ]
    },
    {
      "cell_type": "code",
      "source": [
        "from google.colab import drive\n",
        "\n",
        "drive.mount('/content/drive')\n",
        "\n",
        "%pwd\n",
        "%cd \"/content/drive/MyDrive/Colab Notebooks/ModelamientoSimulacion/Taller4\"\n",
        "%pwd"
      ],
      "metadata": {
        "colab": {
          "base_uri": "https://localhost:8080/",
          "height": 70
        },
        "id": "DQzD4J84D3DZ",
        "outputId": "84368a20-cc83-49a6-bc2e-0aa1eaf5f67d"
      },
      "execution_count": null,
      "outputs": [
        {
          "output_type": "stream",
          "name": "stdout",
          "text": [
            "Drive already mounted at /content/drive; to attempt to forcibly remount, call drive.mount(\"/content/drive\", force_remount=True).\n",
            "/content/drive/MyDrive/Colab Notebooks/ModelamientoSimulacion/Taller4\n"
          ]
        },
        {
          "output_type": "execute_result",
          "data": {
            "text/plain": [
              "'/content/drive/MyDrive/Colab Notebooks/ModelamientoSimulacion/Taller4'"
            ],
            "application/vnd.google.colaboratory.intrinsic+json": {
              "type": "string"
            }
          },
          "metadata": {},
          "execution_count": 20
        }
      ]
    },
    {
      "cell_type": "code",
      "source": [
        "import pandas as pd\n",
        "from sklearn.model_selection import train_test_split\n",
        "from sklearn.linear_model import LinearRegression\n",
        "from sklearn.metrics import mean_squared_error, r2_score\n",
        "\n",
        "\n",
        "data = pd.read_csv(\"airbnb.csv\", delimiter=';', usecols=[0, 2, 4])\n",
        "data.columns = ['ubicacion', 'calificacion_promedio', 'numero_de_habitaciones']\n",
        "one_hot_encoded = pd.get_dummies(data['ubicacion'], prefix='ubicacion')\n",
        "data_encoded = pd.concat([data[['calificacion_promedio', 'numero_de_habitaciones']], one_hot_encoded], axis=1)\n",
        "X = data_encoded.drop('calificacion_promedio', axis=1)\n",
        "y = data_encoded['calificacion_promedio']\n",
        "X_train, X_test, y_train, y_test = train_test_split(X, y, test_size=0.2, random_state=42)\n",
        "linear_model = LinearRegression()\n",
        "linear_model.fit(X_train, y_train)\n",
        "y_pred_linear = linear_model.predict(X_test)\n",
        "mse_linear = mean_squared_error(y_test, y_pred_linear)\n",
        "r2_linear = r2_score(y_test, y_pred_linear)\n",
        "\n",
        "print(f\"Error cuadrático medio (MSE) para regresión lineal: {mse_linear}\")\n",
        "print(f\"Coeficiente de determinación (R^2): {r2_linear}\")\n",
        "\n"
      ],
      "metadata": {
        "colab": {
          "base_uri": "https://localhost:8080/"
        },
        "id": "9C6_QYr2Eh6C",
        "outputId": "e7e0948d-a869-4703-d576-c5a948d1b861"
      },
      "execution_count": null,
      "outputs": [
        {
          "output_type": "stream",
          "name": "stdout",
          "text": [
            "Error cuadrático medio (MSE) para regresión lineal: 0.07262036315590423\n",
            "Coeficiente de determinación (R^2): -0.41126496908868115\n"
          ]
        }
      ]
    },
    {
      "cell_type": "code",
      "source": [
        "from sklearn.neighbors import KNeighborsRegressor\n",
        "knn_model = KNeighborsRegressor(n_neighbors=5)\n",
        "knn_model.fit(X_train, y_train)\n",
        "y_pred_knn = knn_model.predict(X_test)\n",
        "\n",
        "mse_knn = mean_squared_error(y_test, y_pred_knn)\n",
        "r2_knn = r2_score(y_test, y_pred_knn)\n",
        "print(f\"Error cuadrático medio (MSE) para KNN: {mse_knn}\")\n",
        "print(f\"Coeficiente de determinación (R^2) para KNN: {r2_knn}\")"
      ],
      "metadata": {
        "colab": {
          "base_uri": "https://localhost:8080/"
        },
        "id": "5U5rimcZSKmR",
        "outputId": "c681427d-bc01-483f-bac5-0beca49cb08e"
      },
      "execution_count": null,
      "outputs": [
        {
          "output_type": "stream",
          "name": "stdout",
          "text": [
            "Error cuadrático medio (MSE) para KNN: 0.0730646666666666\n",
            "Coeficiente de determinación (R^2) para KNN: -0.41989932387751505\n"
          ]
        }
      ]
    }
  ]
}