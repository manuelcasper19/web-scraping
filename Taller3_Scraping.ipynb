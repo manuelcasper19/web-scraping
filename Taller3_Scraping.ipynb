{
  "nbformat": 4,
  "nbformat_minor": 0,
  "metadata": {
    "colab": {
      "provenance": []
    },
    "kernelspec": {
      "name": "python3",
      "display_name": "Python 3"
    },
    "language_info": {
      "name": "python"
    }
  },
  "cells": [
    {
      "cell_type": "code",
      "execution_count": 304,
      "metadata": {
        "id": "UtClyflywY7f",
        "colab": {
          "base_uri": "https://localhost:8080/"
        },
        "outputId": "78484fc5-3b34-4286-e1d5-b7014be22ee7"
      },
      "outputs": [
        {
          "output_type": "stream",
          "name": "stdout",
          "text": [
            "\u001b[33m\r0% [Working]\u001b[0m\r            \rHit:1 http://archive.ubuntu.com/ubuntu jammy InRelease\n",
            "\u001b[33m\r0% [Connecting to security.ubuntu.com (185.125.190.36)] [Connected to cloud.r-project.org (108.138.1\u001b[0m\r                                                                                                    \rHit:2 http://archive.ubuntu.com/ubuntu jammy-updates InRelease\n",
            "Hit:3 http://archive.ubuntu.com/ubuntu jammy-backports InRelease\n",
            "Hit:4 https://cloud.r-project.org/bin/linux/ubuntu jammy-cran40/ InRelease\n",
            "Hit:5 http://security.ubuntu.com/ubuntu jammy-security InRelease\n",
            "Hit:6 https://developer.download.nvidia.com/compute/cuda/repos/ubuntu2204/x86_64  InRelease\n",
            "Hit:7 https://ppa.launchpadcontent.net/c2d4u.team/c2d4u4.0+/ubuntu jammy InRelease\n",
            "Hit:8 https://ppa.launchpadcontent.net/deadsnakes/ppa/ubuntu jammy InRelease\n",
            "Hit:9 https://ppa.launchpadcontent.net/graphics-drivers/ppa/ubuntu jammy InRelease\n",
            "Hit:10 https://ppa.launchpadcontent.net/ubuntugis/ppa/ubuntu jammy InRelease\n",
            "Reading package lists... Done\n",
            "Building dependency tree... Done\n",
            "Reading state information... Done\n",
            "50 packages can be upgraded. Run 'apt list --upgradable' to see them.\n",
            "Reading package lists... Done\n",
            "Building dependency tree... Done\n",
            "Reading state information... Done\n",
            "chromium-chromedriver is already the newest version (1:85.0.4183.83-0ubuntu2.22.04.1).\n",
            "0 upgraded, 0 newly installed, 0 to remove and 50 not upgraded.\n",
            "Requirement already satisfied: selenium in /usr/local/lib/python3.10/dist-packages (4.20.0)\n",
            "Requirement already satisfied: urllib3[socks]<3,>=1.26 in /usr/local/lib/python3.10/dist-packages (from selenium) (2.0.7)\n",
            "Requirement already satisfied: trio~=0.17 in /usr/local/lib/python3.10/dist-packages (from selenium) (0.25.0)\n",
            "Requirement already satisfied: trio-websocket~=0.9 in /usr/local/lib/python3.10/dist-packages (from selenium) (0.11.1)\n",
            "Requirement already satisfied: certifi>=2021.10.8 in /usr/local/lib/python3.10/dist-packages (from selenium) (2024.2.2)\n",
            "Requirement already satisfied: typing_extensions>=4.9.0 in /usr/local/lib/python3.10/dist-packages (from selenium) (4.11.0)\n",
            "Requirement already satisfied: attrs>=23.2.0 in /usr/local/lib/python3.10/dist-packages (from trio~=0.17->selenium) (23.2.0)\n",
            "Requirement already satisfied: sortedcontainers in /usr/local/lib/python3.10/dist-packages (from trio~=0.17->selenium) (2.4.0)\n",
            "Requirement already satisfied: idna in /usr/local/lib/python3.10/dist-packages (from trio~=0.17->selenium) (3.7)\n",
            "Requirement already satisfied: outcome in /usr/local/lib/python3.10/dist-packages (from trio~=0.17->selenium) (1.3.0.post0)\n",
            "Requirement already satisfied: sniffio>=1.3.0 in /usr/local/lib/python3.10/dist-packages (from trio~=0.17->selenium) (1.3.1)\n",
            "Requirement already satisfied: exceptiongroup in /usr/local/lib/python3.10/dist-packages (from trio~=0.17->selenium) (1.2.1)\n",
            "Requirement already satisfied: wsproto>=0.14 in /usr/local/lib/python3.10/dist-packages (from trio-websocket~=0.9->selenium) (1.2.0)\n",
            "Requirement already satisfied: pysocks!=1.5.7,<2.0,>=1.5.6 in /usr/local/lib/python3.10/dist-packages (from urllib3[socks]<3,>=1.26->selenium) (1.7.1)\n",
            "Requirement already satisfied: h11<1,>=0.9.0 in /usr/local/lib/python3.10/dist-packages (from wsproto>=0.14->trio-websocket~=0.9->selenium) (0.14.0)\n"
          ]
        }
      ],
      "source": [
        "! apt update\n",
        "! apt install chromium-chromedriver\n",
        "!pip install selenium\n"
      ]
    },
    {
      "cell_type": "code",
      "source": [
        "from PIL import Image\n",
        "from io import BytesIO\n",
        "from selenium import webdriver\n",
        "from selenium.webdriver.common.by import By\n",
        "from selenium.webdriver.support import expected_conditions as EC\n",
        "from bs4 import BeautifulSoup\n",
        "import time\n",
        "import re\n",
        "\n",
        "\n",
        "# #Create chrome options\n",
        "\n",
        "# options = webdriver.ChromeOptions()\n",
        "# options.add_argument(\"--headless\")\n",
        "# options.add_argument(\"--no-sandbox\")\n",
        "# options.add_argument(\"--diable-dev-shm-usage\")\n",
        "\n",
        "# #Open chrome\n",
        "\n",
        "# driver = webdriver.Chrome(options=options)\n",
        "# driver.get(\"https://www.airbnb.com.co/\")"
      ],
      "metadata": {
        "id": "nbDkr5ajVG2O"
      },
      "execution_count": 305,
      "outputs": []
    },
    {
      "cell_type": "code",
      "source": [
        "# png = driver.get_screenshot_as_png()\n",
        "# im = Image.open(BytesIO(png))\n",
        "# im.save(\"prueba.png\")"
      ],
      "metadata": {
        "id": "aHezySQLkeqk"
      },
      "execution_count": null,
      "outputs": []
    },
    {
      "cell_type": "code",
      "source": [
        "#Create chrome options\n",
        "\n",
        "options = webdriver.ChromeOptions()\n",
        "options.add_argument(\"--headless\")\n",
        "options.add_argument(\"--no-sandbox\")\n",
        "options.add_argument(\"--diable-dev-shm-usage\")\n",
        "\n",
        "#Open chrome\n",
        "\n",
        "driver = webdriver.Chrome(options=options)\n",
        "driver.get(\"https://www.airbnb.com.co/\")\n",
        "\n",
        "# Looking for a place\n",
        "\n",
        "searchPlace = driver.find_element(By.XPATH, '//input[@data-testid=\"structured-search-input-field-query\"]')\n",
        "#searchPlace.send_keys(\"Envigado\")\n",
        "#searchPlace.send_keys(\"Antioquia\")\n",
        "ciudades = [\"Medellín\", \"Envigado\", \"Sabaneta\", \"Itagüí\"]\n",
        "searchPlace.send_keys(\", \".join(ciudades))\n",
        "\n",
        "# check-in dates\n",
        "\n",
        "searchDateIn = driver.find_element(By.XPATH, '//div[@data-testid=\"structured-search-input-field-split-dates-0\"]')\n",
        "searchDateIn.click()\n",
        "searchIn = driver.find_element(By.XPATH, '//div[@data-testid=\"calendar-day-16/05/2024\"]')\n",
        "searchIn.click()\n",
        "\n",
        "# check-out dates\n",
        "\n",
        "searchDateOut = driver.find_element(By.XPATH, '//div[@data-testid=\"structured-search-input-field-split-dates-1\"]')\n",
        "searchDateOut.click()\n",
        "searchOut = driver.find_element(By.XPATH, '//div[@data-testid=\"calendar-day-26/05/2024\"]')\n",
        "searchOut.click()\n",
        "\n",
        "# # who\n",
        "\n",
        "guests = driver.find_element(By.XPATH, '//div[@data-testid=\"structured-search-input-field-guests-button\"]')\n",
        "guests.click()\n",
        "\n",
        "increase = driver.find_element(By.XPATH, '//button[@data-testid=\"stepper-adults-increase-button\"]')\n",
        "increase.click()\n",
        "\n",
        "# Looking for data\n",
        "\n",
        "searchButton = driver.find_element(By.XPATH, '//button[@data-testid=\"structured-search-input-search-button\"]')\n",
        "searchButton.click()"
      ],
      "metadata": {
        "id": "e1AoMzhswj5a"
      },
      "execution_count": 307,
      "outputs": []
    },
    {
      "cell_type": "code",
      "source": [
        "# png_search = driver.get_screenshot_as_png()\n",
        "# im = Image.open(BytesIO(png_search))\n",
        "# im.save(\"prueba_search.png\")"
      ],
      "metadata": {
        "id": "d0SSfdoZtofW"
      },
      "execution_count": null,
      "outputs": []
    },
    {
      "cell_type": "code",
      "source": [
        "def buscarItem(metodo=By.XPATH, ruta = \"ruta\"):\n",
        "  lista = []\n",
        "  item = driver.find_elements(By.XPATH, ruta)\n",
        "  for items in item:\n",
        "    elemento = items.text\n",
        "    lista.append(elemento)\n",
        "  return lista"
      ],
      "metadata": {
        "id": "bf0Bof6rwp7w"
      },
      "execution_count": 308,
      "outputs": []
    },
    {
      "cell_type": "code",
      "source": [
        "ubicaciones = []\n",
        "price = []\n",
        "rating = []\n",
        "ubicacion = []\n",
        "#num_habitaciones = []\n",
        "califcaciones = []\n",
        "\n",
        "def obtenerDatos():\n",
        "    ubicacion = buscarItem(By.XPATH, '//div[@data-testid=\"listing-card-title\"]')\n",
        "    price_pagina = buscarItem(By.XPATH, '//div[@data-testid=\"price-availability-row\"]')\n",
        "    #rating_pagina = buscarItem(By.XPATH, '//span[@class=\"r4a59j5 atm_h_1h6ojuz atm_9s_1txwivl atm_7l_jt7fhx atm_84_evh4rp dir dir-ltr\"]')\n",
        "    #ubicacion_pagina = buscarItem(By.XPATH, '//div[contains(@class, \"fb4nyux atm_da_cbdd7d s1cjsi4j\")]')\n",
        "    #num_habitaciones_pagina = buscarItem(By.XPATH, '//li[contains(@class, \"l7n4lsf atm_9s_1o8liyq_keqd55\") and contains(., \"habitación\")]')\n",
        "    calificacionPagina = buscarItem(By.XPATH, '//span[contains(@class, \"r4a59j5 atm_h_1h6ojuz atm_9s_1txwivl atm_7l_jt7fhx atm_84_evh4rp dir dir-ltr\")]//span[contains(@class, \"ru0q88m atm_cp_1ts48j8 dir dir-ltr\")]')\n",
        "\n",
        "    ubicaciones.extend(ubicacion)\n",
        "    price.extend(price_pagina)\n",
        "    #rating.extend(rating_pagina)\n",
        "   # ubicacion.extend(ubicacion_pagina)\n",
        "    #num_habitaciones.extend(num_habitaciones_pagina)\n",
        "    califcaciones.extend(calificacionPagina)\n",
        "\n",
        "obtenerDatos()\n",
        "while len(ubicaciones) < 60:\n",
        "    html = driver.page_source\n",
        "    soup = BeautifulSoup(html, 'html.parser')\n",
        "    nextButton = soup.select_one('a[aria-label=\"Siguiente\"]')\n",
        "    if not nextButton:\n",
        "        break\n",
        "    nextButtonElement = driver.find_element(By.XPATH, '//a[@aria-label=\"Siguiente\"]')\n",
        "    nextButtonElement.click()\n",
        "    time.sleep(5)\n",
        "    obtenerDatos()"
      ],
      "metadata": {
        "id": "30zuxxAiwyqh"
      },
      "execution_count": 309,
      "outputs": []
    },
    {
      "cell_type": "code",
      "source": [
        "def extraerNumeros(cadenas):\n",
        "    patron = r'\\n\\$([0-9,]+) COP'\n",
        "    numeros = []\n",
        "    for cadena in cadenas:\n",
        "        coincidencias = re.findall(patron, cadena)\n",
        "        if coincidencias:\n",
        "            numeros.append(float(coincidencias[0].replace(',', '')))\n",
        "    return numeros\n"
      ],
      "metadata": {
        "id": "geEbYKllCoXF"
      },
      "execution_count": 310,
      "outputs": []
    },
    {
      "cell_type": "code",
      "source": [
        "def separarValores(lista):\n",
        "    califaciones = []\n",
        "    cantidadResenias = []\n",
        "    for valor in lista:\n",
        "        if valor == \"Nuevo\":\n",
        "            califaciones.append(0)\n",
        "            cantidadResenias.append(0)\n",
        "        else:\n",
        "            match = re.match(r'([\\d.]+)\\s*\\((.*?)\\)', valor)\n",
        "            if match:\n",
        "                califaciones.append(float(match.group(1)))\n",
        "                cantidadResenias.append(int(match.group(2)))\n",
        "    return califaciones, cantidadResenias\n"
      ],
      "metadata": {
        "id": "LV7TKSDCH7DE"
      },
      "execution_count": 311,
      "outputs": []
    },
    {
      "cell_type": "code",
      "source": [
        "def extraerCiudad(lista):\n",
        "    ciudades = [normalizaCiudad(ubicacion.split()[-1]) for ubicacion in lista]\n",
        "    return ciudades"
      ],
      "metadata": {
        "id": "3adUeKuFetvJ"
      },
      "execution_count": 312,
      "outputs": []
    },
    {
      "cell_type": "code",
      "source": [
        "def normalizaCiudad(ciudad):\n",
        "    ciudad = ciudad.lower()\n",
        "    ciudad = ciudad.replace(\"poblado\", \"medellín\")\n",
        "    ciudad = ciudad.replace(\"medellin\", \"medellín\")\n",
        "    return ciudad"
      ],
      "metadata": {
        "id": "j793ncPbu_GE"
      },
      "execution_count": 313,
      "outputs": []
    },
    {
      "cell_type": "code",
      "source": [
        "def generarLista(tamano):\n",
        "    lista = []\n",
        "    for i in range(tamano):\n",
        "        lista.append((i % 4) + 1)\n",
        "    return lista"
      ],
      "metadata": {
        "id": "L-9apf_mJPoO"
      },
      "execution_count": 334,
      "outputs": []
    },
    {
      "cell_type": "code",
      "source": [
        "precio = extraerNumeros(price)\n",
        "listaCalificacion, listaResenias = separarValores(califcaciones)\n",
        "ciudades = extraerCiudad(ubicaciones)"
      ],
      "metadata": {
        "id": "xbbcPSW5fXvn"
      },
      "execution_count": 314,
      "outputs": []
    },
    {
      "cell_type": "code",
      "source": [
        "def limpiar(titulos_anuncio, precio, calificaciones, resenias):\n",
        "    nuevosTitulos = []\n",
        "    nuevosPrecios = []\n",
        "    nuevasCalificaciones = []\n",
        "    nuevasResenias = []\n",
        "\n",
        "    min_len = min(len(titulos_anuncio), len(precio), len(calificaciones), len(resenias))\n",
        "\n",
        "    for i in range(min_len):\n",
        "        if precio[i] != 0 and calificaciones[i] != 0 and resenias[i] != 0:\n",
        "            nuevosTitulos.append(titulos_anuncio[i])\n",
        "            nuevosPrecios.append(precio[i])\n",
        "            nuevasCalificaciones.append(calificaciones[i])\n",
        "            nuevasResenias.append(resenias[i])\n",
        "\n",
        "    return nuevosTitulos, nuevosPrecios, nuevasCalificaciones, nuevasResenias"
      ],
      "metadata": {
        "id": "vpZdg93_Sf1i"
      },
      "execution_count": 315,
      "outputs": []
    },
    {
      "cell_type": "code",
      "source": [
        "nuevos_titulos, nuevos_precios, nuevas_calificaciones, nuevas_resenias = limpiar(ciudades, precio, listaCalificacion, listaResenias)\n",
        "habitaciones = generarLista(len(nuevos_titulos))\n",
        "print(len(nuevos_precios))"
      ],
      "metadata": {
        "id": "zdlompHGSpC5",
        "colab": {
          "base_uri": "https://localhost:8080/"
        },
        "outputId": "57801308-3b79-4dd2-d41d-c7cd0c6dff7b"
      },
      "execution_count": 355,
      "outputs": [
        {
          "output_type": "stream",
          "name": "stdout",
          "text": [
            "58\n"
          ]
        }
      ]
    },
    {
      "cell_type": "code",
      "source": [
        "import pandas as pd\n",
        "pd = pd.DataFrame((zip(nuevos_titulos, nuevos_precios, nuevas_calificaciones, nuevas_resenias )), columns = [\"ubicacion\", \"Price\", \"calificacion\", \"reseñas\"])\n",
        "df\n"
      ],
      "metadata": {
        "colab": {
          "base_uri": "https://localhost:8080/",
          "height": 1000
        },
        "id": "K09p4RRKE0rf",
        "outputId": "f88daf5c-f86c-4923-a30f-cf728fe870ef"
      },
      "execution_count": 356,
      "outputs": [
        {
          "output_type": "execute_result",
          "data": {
            "text/plain": [
              "   ubicacion     Price  calificacion  reseñas\n",
              "0   medellín  213300.0          4.86     2172\n",
              "1   envigado   88150.0          4.69       13\n",
              "2   envigado  140847.0          4.78       32\n",
              "3   envigado  101161.0          4.64       25\n",
              "4   envigado   53403.0          5.00        6\n",
              "5   envigado   94688.0          5.00       14\n",
              "6   envigado   55188.0          4.92       60\n",
              "7   envigado  114042.0          4.80        5\n",
              "8   envigado   76237.0          5.00       15\n",
              "9   envigado   86847.0          4.94       34\n",
              "10  envigado  134715.0          5.00       10\n",
              "11  envigado  199728.0          4.84       19\n",
              "12  envigado  151140.0          5.00        4\n",
              "13  envigado  213541.0          4.94       18\n",
              "14  envigado  178259.0          5.00       13\n",
              "15  medellín  164859.0          4.86        7\n",
              "16  envigado   48443.0          4.97       30\n",
              "17  medellín  151200.0          4.79      144\n",
              "18  envigado  106708.0          4.66       41\n",
              "19  envigado  118236.0          4.94       16\n",
              "20  envigado   77672.0          4.87       46\n",
              "21  medellín  151200.0          4.75       16\n",
              "22  medellín  132761.0          4.86        7\n",
              "23  envigado   66080.0          4.74       34\n",
              "24  envigado   60592.0          4.92       24\n",
              "25  envigado   70208.0          4.50       20\n",
              "26  envigado  145899.0          4.92       92\n",
              "27  envigado  137750.0          5.00        8\n",
              "28  envigado  159250.0          4.92       13\n",
              "29  envigado   68729.0          4.71       14\n",
              "30  envigado   74175.0          4.56       18\n",
              "31  envigado  146884.0          4.73       30\n",
              "32  medellín  117338.0          4.80       20\n",
              "33  medellín  141217.0          4.90       21\n",
              "34  envigado   91054.0          4.61       18\n",
              "35  envigado  107231.0          4.67        3\n",
              "36  medellín  151200.0          4.52       21\n",
              "37  envigado   58079.0          4.57        7\n",
              "38  envigado  207080.0          4.72       85\n",
              "39    itagüi  115339.0          4.43        7\n",
              "40  envigado  167753.0          4.52       31\n",
              "41  envigado   82103.0          5.00        7\n",
              "42  envigado  303714.0          4.94       88\n",
              "43  medellín  167463.0          4.59       27\n",
              "44  envigado  124383.0          4.86       36\n",
              "45  envigado  219162.0          5.00        3\n",
              "46  envigado   96383.0          4.41       37\n",
              "47  envigado  146521.0          4.67        6\n",
              "48  medellín  166916.0          4.23       13\n",
              "49  envigado   93440.0          4.39       99\n",
              "50  envigado  130105.0          4.87       45\n",
              "51  medellín  204494.0          4.66       59\n",
              "52  envigado   76190.0          4.20        5\n",
              "53  envigado   55597.0          4.56       45\n",
              "54  envigado  112148.0          4.22       36\n",
              "55  medellín  169322.0          4.86       65\n",
              "56  envigado  220583.0          4.76       17\n",
              "57  envigado   45202.0          5.00        3"
            ],
            "text/html": [
              "\n",
              "  <div id=\"df-1c9f5823-f119-44e2-9732-89cf757e8cc2\" class=\"colab-df-container\">\n",
              "    <div>\n",
              "<style scoped>\n",
              "    .dataframe tbody tr th:only-of-type {\n",
              "        vertical-align: middle;\n",
              "    }\n",
              "\n",
              "    .dataframe tbody tr th {\n",
              "        vertical-align: top;\n",
              "    }\n",
              "\n",
              "    .dataframe thead th {\n",
              "        text-align: right;\n",
              "    }\n",
              "</style>\n",
              "<table border=\"1\" class=\"dataframe\">\n",
              "  <thead>\n",
              "    <tr style=\"text-align: right;\">\n",
              "      <th></th>\n",
              "      <th>ubicacion</th>\n",
              "      <th>Price</th>\n",
              "      <th>calificacion</th>\n",
              "      <th>reseñas</th>\n",
              "    </tr>\n",
              "  </thead>\n",
              "  <tbody>\n",
              "    <tr>\n",
              "      <th>0</th>\n",
              "      <td>medellín</td>\n",
              "      <td>213300.0</td>\n",
              "      <td>4.86</td>\n",
              "      <td>2172</td>\n",
              "    </tr>\n",
              "    <tr>\n",
              "      <th>1</th>\n",
              "      <td>envigado</td>\n",
              "      <td>88150.0</td>\n",
              "      <td>4.69</td>\n",
              "      <td>13</td>\n",
              "    </tr>\n",
              "    <tr>\n",
              "      <th>2</th>\n",
              "      <td>envigado</td>\n",
              "      <td>140847.0</td>\n",
              "      <td>4.78</td>\n",
              "      <td>32</td>\n",
              "    </tr>\n",
              "    <tr>\n",
              "      <th>3</th>\n",
              "      <td>envigado</td>\n",
              "      <td>101161.0</td>\n",
              "      <td>4.64</td>\n",
              "      <td>25</td>\n",
              "    </tr>\n",
              "    <tr>\n",
              "      <th>4</th>\n",
              "      <td>envigado</td>\n",
              "      <td>53403.0</td>\n",
              "      <td>5.00</td>\n",
              "      <td>6</td>\n",
              "    </tr>\n",
              "    <tr>\n",
              "      <th>5</th>\n",
              "      <td>envigado</td>\n",
              "      <td>94688.0</td>\n",
              "      <td>5.00</td>\n",
              "      <td>14</td>\n",
              "    </tr>\n",
              "    <tr>\n",
              "      <th>6</th>\n",
              "      <td>envigado</td>\n",
              "      <td>55188.0</td>\n",
              "      <td>4.92</td>\n",
              "      <td>60</td>\n",
              "    </tr>\n",
              "    <tr>\n",
              "      <th>7</th>\n",
              "      <td>envigado</td>\n",
              "      <td>114042.0</td>\n",
              "      <td>4.80</td>\n",
              "      <td>5</td>\n",
              "    </tr>\n",
              "    <tr>\n",
              "      <th>8</th>\n",
              "      <td>envigado</td>\n",
              "      <td>76237.0</td>\n",
              "      <td>5.00</td>\n",
              "      <td>15</td>\n",
              "    </tr>\n",
              "    <tr>\n",
              "      <th>9</th>\n",
              "      <td>envigado</td>\n",
              "      <td>86847.0</td>\n",
              "      <td>4.94</td>\n",
              "      <td>34</td>\n",
              "    </tr>\n",
              "    <tr>\n",
              "      <th>10</th>\n",
              "      <td>envigado</td>\n",
              "      <td>134715.0</td>\n",
              "      <td>5.00</td>\n",
              "      <td>10</td>\n",
              "    </tr>\n",
              "    <tr>\n",
              "      <th>11</th>\n",
              "      <td>envigado</td>\n",
              "      <td>199728.0</td>\n",
              "      <td>4.84</td>\n",
              "      <td>19</td>\n",
              "    </tr>\n",
              "    <tr>\n",
              "      <th>12</th>\n",
              "      <td>envigado</td>\n",
              "      <td>151140.0</td>\n",
              "      <td>5.00</td>\n",
              "      <td>4</td>\n",
              "    </tr>\n",
              "    <tr>\n",
              "      <th>13</th>\n",
              "      <td>envigado</td>\n",
              "      <td>213541.0</td>\n",
              "      <td>4.94</td>\n",
              "      <td>18</td>\n",
              "    </tr>\n",
              "    <tr>\n",
              "      <th>14</th>\n",
              "      <td>envigado</td>\n",
              "      <td>178259.0</td>\n",
              "      <td>5.00</td>\n",
              "      <td>13</td>\n",
              "    </tr>\n",
              "    <tr>\n",
              "      <th>15</th>\n",
              "      <td>medellín</td>\n",
              "      <td>164859.0</td>\n",
              "      <td>4.86</td>\n",
              "      <td>7</td>\n",
              "    </tr>\n",
              "    <tr>\n",
              "      <th>16</th>\n",
              "      <td>envigado</td>\n",
              "      <td>48443.0</td>\n",
              "      <td>4.97</td>\n",
              "      <td>30</td>\n",
              "    </tr>\n",
              "    <tr>\n",
              "      <th>17</th>\n",
              "      <td>medellín</td>\n",
              "      <td>151200.0</td>\n",
              "      <td>4.79</td>\n",
              "      <td>144</td>\n",
              "    </tr>\n",
              "    <tr>\n",
              "      <th>18</th>\n",
              "      <td>envigado</td>\n",
              "      <td>106708.0</td>\n",
              "      <td>4.66</td>\n",
              "      <td>41</td>\n",
              "    </tr>\n",
              "    <tr>\n",
              "      <th>19</th>\n",
              "      <td>envigado</td>\n",
              "      <td>118236.0</td>\n",
              "      <td>4.94</td>\n",
              "      <td>16</td>\n",
              "    </tr>\n",
              "    <tr>\n",
              "      <th>20</th>\n",
              "      <td>envigado</td>\n",
              "      <td>77672.0</td>\n",
              "      <td>4.87</td>\n",
              "      <td>46</td>\n",
              "    </tr>\n",
              "    <tr>\n",
              "      <th>21</th>\n",
              "      <td>medellín</td>\n",
              "      <td>151200.0</td>\n",
              "      <td>4.75</td>\n",
              "      <td>16</td>\n",
              "    </tr>\n",
              "    <tr>\n",
              "      <th>22</th>\n",
              "      <td>medellín</td>\n",
              "      <td>132761.0</td>\n",
              "      <td>4.86</td>\n",
              "      <td>7</td>\n",
              "    </tr>\n",
              "    <tr>\n",
              "      <th>23</th>\n",
              "      <td>envigado</td>\n",
              "      <td>66080.0</td>\n",
              "      <td>4.74</td>\n",
              "      <td>34</td>\n",
              "    </tr>\n",
              "    <tr>\n",
              "      <th>24</th>\n",
              "      <td>envigado</td>\n",
              "      <td>60592.0</td>\n",
              "      <td>4.92</td>\n",
              "      <td>24</td>\n",
              "    </tr>\n",
              "    <tr>\n",
              "      <th>25</th>\n",
              "      <td>envigado</td>\n",
              "      <td>70208.0</td>\n",
              "      <td>4.50</td>\n",
              "      <td>20</td>\n",
              "    </tr>\n",
              "    <tr>\n",
              "      <th>26</th>\n",
              "      <td>envigado</td>\n",
              "      <td>145899.0</td>\n",
              "      <td>4.92</td>\n",
              "      <td>92</td>\n",
              "    </tr>\n",
              "    <tr>\n",
              "      <th>27</th>\n",
              "      <td>envigado</td>\n",
              "      <td>137750.0</td>\n",
              "      <td>5.00</td>\n",
              "      <td>8</td>\n",
              "    </tr>\n",
              "    <tr>\n",
              "      <th>28</th>\n",
              "      <td>envigado</td>\n",
              "      <td>159250.0</td>\n",
              "      <td>4.92</td>\n",
              "      <td>13</td>\n",
              "    </tr>\n",
              "    <tr>\n",
              "      <th>29</th>\n",
              "      <td>envigado</td>\n",
              "      <td>68729.0</td>\n",
              "      <td>4.71</td>\n",
              "      <td>14</td>\n",
              "    </tr>\n",
              "    <tr>\n",
              "      <th>30</th>\n",
              "      <td>envigado</td>\n",
              "      <td>74175.0</td>\n",
              "      <td>4.56</td>\n",
              "      <td>18</td>\n",
              "    </tr>\n",
              "    <tr>\n",
              "      <th>31</th>\n",
              "      <td>envigado</td>\n",
              "      <td>146884.0</td>\n",
              "      <td>4.73</td>\n",
              "      <td>30</td>\n",
              "    </tr>\n",
              "    <tr>\n",
              "      <th>32</th>\n",
              "      <td>medellín</td>\n",
              "      <td>117338.0</td>\n",
              "      <td>4.80</td>\n",
              "      <td>20</td>\n",
              "    </tr>\n",
              "    <tr>\n",
              "      <th>33</th>\n",
              "      <td>medellín</td>\n",
              "      <td>141217.0</td>\n",
              "      <td>4.90</td>\n",
              "      <td>21</td>\n",
              "    </tr>\n",
              "    <tr>\n",
              "      <th>34</th>\n",
              "      <td>envigado</td>\n",
              "      <td>91054.0</td>\n",
              "      <td>4.61</td>\n",
              "      <td>18</td>\n",
              "    </tr>\n",
              "    <tr>\n",
              "      <th>35</th>\n",
              "      <td>envigado</td>\n",
              "      <td>107231.0</td>\n",
              "      <td>4.67</td>\n",
              "      <td>3</td>\n",
              "    </tr>\n",
              "    <tr>\n",
              "      <th>36</th>\n",
              "      <td>medellín</td>\n",
              "      <td>151200.0</td>\n",
              "      <td>4.52</td>\n",
              "      <td>21</td>\n",
              "    </tr>\n",
              "    <tr>\n",
              "      <th>37</th>\n",
              "      <td>envigado</td>\n",
              "      <td>58079.0</td>\n",
              "      <td>4.57</td>\n",
              "      <td>7</td>\n",
              "    </tr>\n",
              "    <tr>\n",
              "      <th>38</th>\n",
              "      <td>envigado</td>\n",
              "      <td>207080.0</td>\n",
              "      <td>4.72</td>\n",
              "      <td>85</td>\n",
              "    </tr>\n",
              "    <tr>\n",
              "      <th>39</th>\n",
              "      <td>itagüi</td>\n",
              "      <td>115339.0</td>\n",
              "      <td>4.43</td>\n",
              "      <td>7</td>\n",
              "    </tr>\n",
              "    <tr>\n",
              "      <th>40</th>\n",
              "      <td>envigado</td>\n",
              "      <td>167753.0</td>\n",
              "      <td>4.52</td>\n",
              "      <td>31</td>\n",
              "    </tr>\n",
              "    <tr>\n",
              "      <th>41</th>\n",
              "      <td>envigado</td>\n",
              "      <td>82103.0</td>\n",
              "      <td>5.00</td>\n",
              "      <td>7</td>\n",
              "    </tr>\n",
              "    <tr>\n",
              "      <th>42</th>\n",
              "      <td>envigado</td>\n",
              "      <td>303714.0</td>\n",
              "      <td>4.94</td>\n",
              "      <td>88</td>\n",
              "    </tr>\n",
              "    <tr>\n",
              "      <th>43</th>\n",
              "      <td>medellín</td>\n",
              "      <td>167463.0</td>\n",
              "      <td>4.59</td>\n",
              "      <td>27</td>\n",
              "    </tr>\n",
              "    <tr>\n",
              "      <th>44</th>\n",
              "      <td>envigado</td>\n",
              "      <td>124383.0</td>\n",
              "      <td>4.86</td>\n",
              "      <td>36</td>\n",
              "    </tr>\n",
              "    <tr>\n",
              "      <th>45</th>\n",
              "      <td>envigado</td>\n",
              "      <td>219162.0</td>\n",
              "      <td>5.00</td>\n",
              "      <td>3</td>\n",
              "    </tr>\n",
              "    <tr>\n",
              "      <th>46</th>\n",
              "      <td>envigado</td>\n",
              "      <td>96383.0</td>\n",
              "      <td>4.41</td>\n",
              "      <td>37</td>\n",
              "    </tr>\n",
              "    <tr>\n",
              "      <th>47</th>\n",
              "      <td>envigado</td>\n",
              "      <td>146521.0</td>\n",
              "      <td>4.67</td>\n",
              "      <td>6</td>\n",
              "    </tr>\n",
              "    <tr>\n",
              "      <th>48</th>\n",
              "      <td>medellín</td>\n",
              "      <td>166916.0</td>\n",
              "      <td>4.23</td>\n",
              "      <td>13</td>\n",
              "    </tr>\n",
              "    <tr>\n",
              "      <th>49</th>\n",
              "      <td>envigado</td>\n",
              "      <td>93440.0</td>\n",
              "      <td>4.39</td>\n",
              "      <td>99</td>\n",
              "    </tr>\n",
              "    <tr>\n",
              "      <th>50</th>\n",
              "      <td>envigado</td>\n",
              "      <td>130105.0</td>\n",
              "      <td>4.87</td>\n",
              "      <td>45</td>\n",
              "    </tr>\n",
              "    <tr>\n",
              "      <th>51</th>\n",
              "      <td>medellín</td>\n",
              "      <td>204494.0</td>\n",
              "      <td>4.66</td>\n",
              "      <td>59</td>\n",
              "    </tr>\n",
              "    <tr>\n",
              "      <th>52</th>\n",
              "      <td>envigado</td>\n",
              "      <td>76190.0</td>\n",
              "      <td>4.20</td>\n",
              "      <td>5</td>\n",
              "    </tr>\n",
              "    <tr>\n",
              "      <th>53</th>\n",
              "      <td>envigado</td>\n",
              "      <td>55597.0</td>\n",
              "      <td>4.56</td>\n",
              "      <td>45</td>\n",
              "    </tr>\n",
              "    <tr>\n",
              "      <th>54</th>\n",
              "      <td>envigado</td>\n",
              "      <td>112148.0</td>\n",
              "      <td>4.22</td>\n",
              "      <td>36</td>\n",
              "    </tr>\n",
              "    <tr>\n",
              "      <th>55</th>\n",
              "      <td>medellín</td>\n",
              "      <td>169322.0</td>\n",
              "      <td>4.86</td>\n",
              "      <td>65</td>\n",
              "    </tr>\n",
              "    <tr>\n",
              "      <th>56</th>\n",
              "      <td>envigado</td>\n",
              "      <td>220583.0</td>\n",
              "      <td>4.76</td>\n",
              "      <td>17</td>\n",
              "    </tr>\n",
              "    <tr>\n",
              "      <th>57</th>\n",
              "      <td>envigado</td>\n",
              "      <td>45202.0</td>\n",
              "      <td>5.00</td>\n",
              "      <td>3</td>\n",
              "    </tr>\n",
              "  </tbody>\n",
              "</table>\n",
              "</div>\n",
              "    <div class=\"colab-df-buttons\">\n",
              "\n",
              "  <div class=\"colab-df-container\">\n",
              "    <button class=\"colab-df-convert\" onclick=\"convertToInteractive('df-1c9f5823-f119-44e2-9732-89cf757e8cc2')\"\n",
              "            title=\"Convert this dataframe to an interactive table.\"\n",
              "            style=\"display:none;\">\n",
              "\n",
              "  <svg xmlns=\"http://www.w3.org/2000/svg\" height=\"24px\" viewBox=\"0 -960 960 960\">\n",
              "    <path d=\"M120-120v-720h720v720H120Zm60-500h600v-160H180v160Zm220 220h160v-160H400v160Zm0 220h160v-160H400v160ZM180-400h160v-160H180v160Zm440 0h160v-160H620v160ZM180-180h160v-160H180v160Zm440 0h160v-160H620v160Z\"/>\n",
              "  </svg>\n",
              "    </button>\n",
              "\n",
              "  <style>\n",
              "    .colab-df-container {\n",
              "      display:flex;\n",
              "      gap: 12px;\n",
              "    }\n",
              "\n",
              "    .colab-df-convert {\n",
              "      background-color: #E8F0FE;\n",
              "      border: none;\n",
              "      border-radius: 50%;\n",
              "      cursor: pointer;\n",
              "      display: none;\n",
              "      fill: #1967D2;\n",
              "      height: 32px;\n",
              "      padding: 0 0 0 0;\n",
              "      width: 32px;\n",
              "    }\n",
              "\n",
              "    .colab-df-convert:hover {\n",
              "      background-color: #E2EBFA;\n",
              "      box-shadow: 0px 1px 2px rgba(60, 64, 67, 0.3), 0px 1px 3px 1px rgba(60, 64, 67, 0.15);\n",
              "      fill: #174EA6;\n",
              "    }\n",
              "\n",
              "    .colab-df-buttons div {\n",
              "      margin-bottom: 4px;\n",
              "    }\n",
              "\n",
              "    [theme=dark] .colab-df-convert {\n",
              "      background-color: #3B4455;\n",
              "      fill: #D2E3FC;\n",
              "    }\n",
              "\n",
              "    [theme=dark] .colab-df-convert:hover {\n",
              "      background-color: #434B5C;\n",
              "      box-shadow: 0px 1px 3px 1px rgba(0, 0, 0, 0.15);\n",
              "      filter: drop-shadow(0px 1px 2px rgba(0, 0, 0, 0.3));\n",
              "      fill: #FFFFFF;\n",
              "    }\n",
              "  </style>\n",
              "\n",
              "    <script>\n",
              "      const buttonEl =\n",
              "        document.querySelector('#df-1c9f5823-f119-44e2-9732-89cf757e8cc2 button.colab-df-convert');\n",
              "      buttonEl.style.display =\n",
              "        google.colab.kernel.accessAllowed ? 'block' : 'none';\n",
              "\n",
              "      async function convertToInteractive(key) {\n",
              "        const element = document.querySelector('#df-1c9f5823-f119-44e2-9732-89cf757e8cc2');\n",
              "        const dataTable =\n",
              "          await google.colab.kernel.invokeFunction('convertToInteractive',\n",
              "                                                    [key], {});\n",
              "        if (!dataTable) return;\n",
              "\n",
              "        const docLinkHtml = 'Like what you see? Visit the ' +\n",
              "          '<a target=\"_blank\" href=https://colab.research.google.com/notebooks/data_table.ipynb>data table notebook</a>'\n",
              "          + ' to learn more about interactive tables.';\n",
              "        element.innerHTML = '';\n",
              "        dataTable['output_type'] = 'display_data';\n",
              "        await google.colab.output.renderOutput(dataTable, element);\n",
              "        const docLink = document.createElement('div');\n",
              "        docLink.innerHTML = docLinkHtml;\n",
              "        element.appendChild(docLink);\n",
              "      }\n",
              "    </script>\n",
              "  </div>\n",
              "\n",
              "\n",
              "<div id=\"df-a7dd8639-cf03-42bd-a742-4e832776ffea\">\n",
              "  <button class=\"colab-df-quickchart\" onclick=\"quickchart('df-a7dd8639-cf03-42bd-a742-4e832776ffea')\"\n",
              "            title=\"Suggest charts\"\n",
              "            style=\"display:none;\">\n",
              "\n",
              "<svg xmlns=\"http://www.w3.org/2000/svg\" height=\"24px\"viewBox=\"0 0 24 24\"\n",
              "     width=\"24px\">\n",
              "    <g>\n",
              "        <path d=\"M19 3H5c-1.1 0-2 .9-2 2v14c0 1.1.9 2 2 2h14c1.1 0 2-.9 2-2V5c0-1.1-.9-2-2-2zM9 17H7v-7h2v7zm4 0h-2V7h2v10zm4 0h-2v-4h2v4z\"/>\n",
              "    </g>\n",
              "</svg>\n",
              "  </button>\n",
              "\n",
              "<style>\n",
              "  .colab-df-quickchart {\n",
              "      --bg-color: #E8F0FE;\n",
              "      --fill-color: #1967D2;\n",
              "      --hover-bg-color: #E2EBFA;\n",
              "      --hover-fill-color: #174EA6;\n",
              "      --disabled-fill-color: #AAA;\n",
              "      --disabled-bg-color: #DDD;\n",
              "  }\n",
              "\n",
              "  [theme=dark] .colab-df-quickchart {\n",
              "      --bg-color: #3B4455;\n",
              "      --fill-color: #D2E3FC;\n",
              "      --hover-bg-color: #434B5C;\n",
              "      --hover-fill-color: #FFFFFF;\n",
              "      --disabled-bg-color: #3B4455;\n",
              "      --disabled-fill-color: #666;\n",
              "  }\n",
              "\n",
              "  .colab-df-quickchart {\n",
              "    background-color: var(--bg-color);\n",
              "    border: none;\n",
              "    border-radius: 50%;\n",
              "    cursor: pointer;\n",
              "    display: none;\n",
              "    fill: var(--fill-color);\n",
              "    height: 32px;\n",
              "    padding: 0;\n",
              "    width: 32px;\n",
              "  }\n",
              "\n",
              "  .colab-df-quickchart:hover {\n",
              "    background-color: var(--hover-bg-color);\n",
              "    box-shadow: 0 1px 2px rgba(60, 64, 67, 0.3), 0 1px 3px 1px rgba(60, 64, 67, 0.15);\n",
              "    fill: var(--button-hover-fill-color);\n",
              "  }\n",
              "\n",
              "  .colab-df-quickchart-complete:disabled,\n",
              "  .colab-df-quickchart-complete:disabled:hover {\n",
              "    background-color: var(--disabled-bg-color);\n",
              "    fill: var(--disabled-fill-color);\n",
              "    box-shadow: none;\n",
              "  }\n",
              "\n",
              "  .colab-df-spinner {\n",
              "    border: 2px solid var(--fill-color);\n",
              "    border-color: transparent;\n",
              "    border-bottom-color: var(--fill-color);\n",
              "    animation:\n",
              "      spin 1s steps(1) infinite;\n",
              "  }\n",
              "\n",
              "  @keyframes spin {\n",
              "    0% {\n",
              "      border-color: transparent;\n",
              "      border-bottom-color: var(--fill-color);\n",
              "      border-left-color: var(--fill-color);\n",
              "    }\n",
              "    20% {\n",
              "      border-color: transparent;\n",
              "      border-left-color: var(--fill-color);\n",
              "      border-top-color: var(--fill-color);\n",
              "    }\n",
              "    30% {\n",
              "      border-color: transparent;\n",
              "      border-left-color: var(--fill-color);\n",
              "      border-top-color: var(--fill-color);\n",
              "      border-right-color: var(--fill-color);\n",
              "    }\n",
              "    40% {\n",
              "      border-color: transparent;\n",
              "      border-right-color: var(--fill-color);\n",
              "      border-top-color: var(--fill-color);\n",
              "    }\n",
              "    60% {\n",
              "      border-color: transparent;\n",
              "      border-right-color: var(--fill-color);\n",
              "    }\n",
              "    80% {\n",
              "      border-color: transparent;\n",
              "      border-right-color: var(--fill-color);\n",
              "      border-bottom-color: var(--fill-color);\n",
              "    }\n",
              "    90% {\n",
              "      border-color: transparent;\n",
              "      border-bottom-color: var(--fill-color);\n",
              "    }\n",
              "  }\n",
              "</style>\n",
              "\n",
              "  <script>\n",
              "    async function quickchart(key) {\n",
              "      const quickchartButtonEl =\n",
              "        document.querySelector('#' + key + ' button');\n",
              "      quickchartButtonEl.disabled = true;  // To prevent multiple clicks.\n",
              "      quickchartButtonEl.classList.add('colab-df-spinner');\n",
              "      try {\n",
              "        const charts = await google.colab.kernel.invokeFunction(\n",
              "            'suggestCharts', [key], {});\n",
              "      } catch (error) {\n",
              "        console.error('Error during call to suggestCharts:', error);\n",
              "      }\n",
              "      quickchartButtonEl.classList.remove('colab-df-spinner');\n",
              "      quickchartButtonEl.classList.add('colab-df-quickchart-complete');\n",
              "    }\n",
              "    (() => {\n",
              "      let quickchartButtonEl =\n",
              "        document.querySelector('#df-a7dd8639-cf03-42bd-a742-4e832776ffea button');\n",
              "      quickchartButtonEl.style.display =\n",
              "        google.colab.kernel.accessAllowed ? 'block' : 'none';\n",
              "    })();\n",
              "  </script>\n",
              "</div>\n",
              "\n",
              "  <div id=\"id_3974c266-0580-4fdb-9709-42d54d84d5c1\">\n",
              "    <style>\n",
              "      .colab-df-generate {\n",
              "        background-color: #E8F0FE;\n",
              "        border: none;\n",
              "        border-radius: 50%;\n",
              "        cursor: pointer;\n",
              "        display: none;\n",
              "        fill: #1967D2;\n",
              "        height: 32px;\n",
              "        padding: 0 0 0 0;\n",
              "        width: 32px;\n",
              "      }\n",
              "\n",
              "      .colab-df-generate:hover {\n",
              "        background-color: #E2EBFA;\n",
              "        box-shadow: 0px 1px 2px rgba(60, 64, 67, 0.3), 0px 1px 3px 1px rgba(60, 64, 67, 0.15);\n",
              "        fill: #174EA6;\n",
              "      }\n",
              "\n",
              "      [theme=dark] .colab-df-generate {\n",
              "        background-color: #3B4455;\n",
              "        fill: #D2E3FC;\n",
              "      }\n",
              "\n",
              "      [theme=dark] .colab-df-generate:hover {\n",
              "        background-color: #434B5C;\n",
              "        box-shadow: 0px 1px 3px 1px rgba(0, 0, 0, 0.15);\n",
              "        filter: drop-shadow(0px 1px 2px rgba(0, 0, 0, 0.3));\n",
              "        fill: #FFFFFF;\n",
              "      }\n",
              "    </style>\n",
              "    <button class=\"colab-df-generate\" onclick=\"generateWithVariable('df')\"\n",
              "            title=\"Generate code using this dataframe.\"\n",
              "            style=\"display:none;\">\n",
              "\n",
              "  <svg xmlns=\"http://www.w3.org/2000/svg\" height=\"24px\"viewBox=\"0 0 24 24\"\n",
              "       width=\"24px\">\n",
              "    <path d=\"M7,19H8.4L18.45,9,17,7.55,7,17.6ZM5,21V16.75L18.45,3.32a2,2,0,0,1,2.83,0l1.4,1.43a1.91,1.91,0,0,1,.58,1.4,1.91,1.91,0,0,1-.58,1.4L9.25,21ZM18.45,9,17,7.55Zm-12,3A5.31,5.31,0,0,0,4.9,8.1,5.31,5.31,0,0,0,1,6.5,5.31,5.31,0,0,0,4.9,4.9,5.31,5.31,0,0,0,6.5,1,5.31,5.31,0,0,0,8.1,4.9,5.31,5.31,0,0,0,12,6.5,5.46,5.46,0,0,0,6.5,12Z\"/>\n",
              "  </svg>\n",
              "    </button>\n",
              "    <script>\n",
              "      (() => {\n",
              "      const buttonEl =\n",
              "        document.querySelector('#id_3974c266-0580-4fdb-9709-42d54d84d5c1 button.colab-df-generate');\n",
              "      buttonEl.style.display =\n",
              "        google.colab.kernel.accessAllowed ? 'block' : 'none';\n",
              "\n",
              "      buttonEl.onclick = () => {\n",
              "        google.colab.notebook.generateWithVariable('df');\n",
              "      }\n",
              "      })();\n",
              "    </script>\n",
              "  </div>\n",
              "\n",
              "    </div>\n",
              "  </div>\n"
            ],
            "application/vnd.google.colaboratory.intrinsic+json": {
              "type": "dataframe",
              "variable_name": "df",
              "summary": "{\n  \"name\": \"df\",\n  \"rows\": 58,\n  \"fields\": [\n    {\n      \"column\": \"ubicacion\",\n      \"properties\": {\n        \"dtype\": \"category\",\n        \"num_unique_values\": 3,\n        \"samples\": [\n          \"medell\\u00edn\",\n          \"envigado\",\n          \"itag\\u00fci\"\n        ],\n        \"semantic_type\": \"\",\n        \"description\": \"\"\n      }\n    },\n    {\n      \"column\": \"Price\",\n      \"properties\": {\n        \"dtype\": \"number\",\n        \"std\": 54145.080712685645,\n        \"min\": 45202.0,\n        \"max\": 303714.0,\n        \"num_unique_values\": 56,\n        \"samples\": [\n          213300.0,\n          94688.0,\n          91054.0\n        ],\n        \"semantic_type\": \"\",\n        \"description\": \"\"\n      }\n    },\n    {\n      \"column\": \"calificacion\",\n      \"properties\": {\n        \"dtype\": \"number\",\n        \"std\": 0.21449648407792307,\n        \"min\": 4.2,\n        \"max\": 5.0,\n        \"num_unique_values\": 33,\n        \"samples\": [\n          4.22,\n          4.5,\n          4.59\n        ],\n        \"semantic_type\": \"\",\n        \"description\": \"\"\n      }\n    },\n    {\n      \"column\": \"rese\\u00f1as\",\n      \"properties\": {\n        \"dtype\": \"number\",\n        \"std\": 282,\n        \"min\": 3,\n        \"max\": 2172,\n        \"num_unique_values\": 37,\n        \"samples\": [\n          41,\n          18,\n          6\n        ],\n        \"semantic_type\": \"\",\n        \"description\": \"\"\n      }\n    }\n  ]\n}"
            }
          },
          "metadata": {},
          "execution_count": 356
        }
      ]
    },
    {
      "cell_type": "code",
      "source": [],
      "metadata": {
        "id": "DZ06G1-tEkNW"
      },
      "execution_count": null,
      "outputs": []
    },
    {
      "cell_type": "markdown",
      "source": [
        "import pandas as pd\n",
        "\n",
        "df = pd.DataFrame((zip(nuevos_titulos, nuevos_precios, nuevas_calificaciones, nuevas_resenias )), columns = [\"ubicacion\", \"Price\", \"calificacion\", \"reseñas\"])\n",
        "df\n",
        "\n"
      ],
      "metadata": {
        "id": "TSvs04D8EkiP"
      }
    },
    {
      "source": [
        "from matplotlib import pyplot as plt\n",
        "import seaborn as sns\n",
        "figsize = (12, 1.2 * len(df['ubicacion'].unique()))\n",
        "plt.figure(figsize=figsize)\n",
        "sns.violinplot(df, x='Price', y='ubicacion', inner='stick', palette='Dark2')\n",
        "sns.despine(top=True, right=True, bottom=True, left=True)"
      ],
      "cell_type": "code",
      "metadata": {
        "colab": {
          "base_uri": "https://localhost:8080/",
          "height": 444
        },
        "id": "O_mj6NN-DBh-",
        "outputId": "02e618f0-df38-4d90-b65f-7f72b48c7513"
      },
      "execution_count": 328,
      "outputs": [
        {
          "output_type": "stream",
          "name": "stderr",
          "text": [
            "<ipython-input-328-b7f11d2db399>:5: FutureWarning: \n",
            "\n",
            "Passing `palette` without assigning `hue` is deprecated and will be removed in v0.14.0. Assign the `y` variable to `hue` and set `legend=False` for the same effect.\n",
            "\n",
            "  sns.violinplot(df, x='Price', y='ubicacion', inner='stick', palette='Dark2')\n"
          ]
        },
        {
          "output_type": "display_data",
          "data": {
            "text/plain": [
              "<Figure size 1200x360 with 1 Axes>"
            ],
            "image/png": "[encoded data removed]"
          },
          "metadata": {}
        }
      ]
    },
    {
      "cell_type": "code",
      "source": [],
      "metadata": {
        "id": "qbo5A1nhEoLm"
      },
      "execution_count": null,
      "outputs": []
    },
    {
      "source": [
        "# @title reseñas\n",
        "\n",
        "from matplotlib import pyplot as plt\n",
        "df['reseñas'].plot(kind='line', figsize=(8, 4), title='reseñas')\n",
        "plt.gca().spines[['top', 'right']].set_visible(False)"
      ],
      "cell_type": "code",
      "execution_count": 329,
      "outputs": [
        {
          "output_type": "display_data",
          "data": {
            "text/plain": [
              "<Figure size 800x400 with 1 Axes>"
            ],
            "image/png": "[encoded data removed]"
          },
          "metadata": {}
        }
      ],
      "metadata": {
        "colab": {
          "base_uri": "https://localhost:8080/",
          "height": 391
        },
        "id": "o4l78JIVCeMP",
        "outputId": "b75dab3b-dce7-4bbf-deb2-51541316724e"
      }
    },
    {
      "source": [
        "# @title calificacion\n",
        "\n",
        "from matplotlib import pyplot as plt\n",
        "df['calificacion'].plot(kind='line', figsize=(8, 4), title='calificacion')\n",
        "plt.gca().spines[['top', 'right']].set_visible(False)"
      ],
      "cell_type": "code",
      "execution_count": 326,
      "outputs": [
        {
          "output_type": "display_data",
          "data": {
            "text/plain": [
              "<Figure size 800x400 with 1 Axes>"
            ],
            "image/png": "[encoded data removed]"
          },
          "metadata": {}
        }
      ],
      "metadata": {
        "colab": {
          "base_uri": "https://localhost:8080/",
          "height": 391
        },
        "id": "gZwCN2Y1CWpW",
        "outputId": "950e41b9-e8b6-4fa2-9ef1-0623265aee9a"
      }
    },
    {
      "source": [
        "# @title Price\n",
        "\n",
        "from matplotlib import pyplot as plt\n",
        "df['Price'].plot(kind='line', figsize=(8, 4), title='Price')\n",
        "plt.gca().spines[['top', 'right']].set_visible(False)"
      ],
      "cell_type": "code",
      "execution_count": 325,
      "outputs": [
        {
          "output_type": "display_data",
          "data": {
            "text/plain": [
              "<Figure size 800x400 with 1 Axes>"
            ],
            "image/png": "[encoded data removed]"
          },
          "metadata": {}
        }
      ],
      "metadata": {
        "colab": {
          "base_uri": "https://localhost:8080/",
          "height": 391
        },
        "id": "MOCCkovACQT-",
        "outputId": "99d7449f-2f2e-4f7a-8ade-7c92ab57bbba"
      }
    },
    {
      "source": [
        "# @title calificacion vs reseñas\n",
        "\n",
        "from matplotlib import pyplot as plt\n",
        "df.plot(kind='scatter', x='calificacion', y='reseñas', s=32, alpha=.8)\n",
        "plt.gca().spines[['top', 'right',]].set_visible(False)"
      ],
      "cell_type": "code",
      "execution_count": 324,
      "outputs": [
        {
          "output_type": "display_data",
          "data": {
            "text/plain": [
              "<Figure size 640x480 with 1 Axes>"
            ],
            "image/png": "[encoded data removed]"
          },
          "metadata": {}
        }
      ],
      "metadata": {
        "colab": {
          "base_uri": "https://localhost:8080/",
          "height": 449
        },
        "id": "L8l995uvCJd-",
        "outputId": "05b19df5-8e5c-459b-c62d-0540c6a925eb"
      }
    },
    {
      "source": [
        "# @title Price vs calificacion\n",
        "\n",
        "from matplotlib import pyplot as plt\n",
        "df.plot(kind='scatter', x='Price', y='calificacion', s=32, alpha=.8)\n",
        "plt.gca().spines[['top', 'right',]].set_visible(False)"
      ],
      "cell_type": "code",
      "execution_count": 323,
      "outputs": [
        {
          "output_type": "display_data",
          "data": {
            "text/plain": [
              "<Figure size 640x480 with 1 Axes>"
            ],
            "image/png": "[encoded data removed]"
          },
          "metadata": {}
        }
      ],
      "metadata": {
        "cellView": "form",
        "colab": {
          "base_uri": "https://localhost:8080/",
          "height": 449
        },
        "id": "2RxIJDfSCCnG",
        "outputId": "a2ad4394-da1f-4c5f-feca-31f11ef6c796"
      }
    },
    {
      "source": [
        "# @title ubicacion\n",
        "\n",
        "from matplotlib import pyplot as plt\n",
        "import seaborn as sns\n",
        "df.groupby('ubicacion').size().plot(kind='barh', color=sns.palettes.mpl_palette('Dark2'))\n",
        "plt.gca().spines[['top', 'right',]].set_visible(False)"
      ],
      "cell_type": "code",
      "execution_count": 322,
      "outputs": [
        {
          "output_type": "display_data",
          "data": {
            "text/plain": [
              "<Figure size 640x480 with 1 Axes>"
            ],
            "image/png": "[encoded data removed]"
          },
          "metadata": {}
        }
      ],
      "metadata": {
        "colab": {
          "base_uri": "https://localhost:8080/",
          "height": 430
        },
        "id": "t2yAJN-6B7Sd",
        "outputId": "2c17cbe9-d3e2-4cb5-d6e0-74c82375cff2"
      }
    },
    {
      "source": [
        "# @title Price\n",
        "\n",
        "from matplotlib import pyplot as plt\n",
        "df['Price'].plot(kind='hist', bins=20, title='Price')\n",
        "plt.gca().spines[['top', 'right',]].set_visible(False)"
      ],
      "cell_type": "code",
      "execution_count": 321,
      "outputs": [
        {
          "output_type": "display_data",
          "data": {
            "text/plain": [
              "<Figure size 640x480 with 1 Axes>"
            ],
            "image/png": "[encoded data removed]"
          },
          "metadata": {}
        }
      ],
      "metadata": {
        "cellView": "form",
        "colab": {
          "base_uri": "https://localhost:8080/",
          "height": 452
        },
        "id": "3PjKNHzIB2Cv",
        "outputId": "1eb68d46-0839-42b1-8f41-87c178b29b62"
      }
    },
    {
      "cell_type": "code",
      "source": [
        "print(df.describe())"
      ],
      "metadata": {
        "colab": {
          "base_uri": "https://localhost:8080/"
        },
        "id": "4tnlYFI3mApO",
        "outputId": "c1d88361-349e-42b9-a296-e069ada0e4ae"
      },
      "execution_count": 360,
      "outputs": [
        {
          "output_type": "stream",
          "name": "stdout",
          "text": [
            "               Price  calificacion      reseñas\n",
            "count      58.000000     58.000000    58.000000\n",
            "mean   126757.051724      4.759828    65.586207\n",
            "std     54145.080713      0.214496   282.808226\n",
            "min     45202.000000      4.200000     3.000000\n",
            "25%     83289.000000      4.645000    10.750000\n",
            "50%    121309.500000      4.800000    19.500000\n",
            "75%    157237.500000      4.935000    36.000000\n",
            "max    303714.000000      5.000000  2172.000000\n"
          ]
        }
      ]
    },
    {
      "cell_type": "code",
      "source": [
        "calificacion_por_ubicacion = df.groupby(\"ubicacion\")[\"calificacion\"].agg([\"mean\", \"count\"])\n",
        "calificacion_por_ubicacion.columns = [\"Promedio de Calificación\", \"Inmuebles\"]\n",
        "calificacion_por_ubicacion = calificacion_por_ubicacion.reset_index()\n",
        "calificacion_por_ubicacion = calificacion_por_ubicacion.sort_values(by=\"Promedio de Calificación\", ascending=False)\n",
        "print(calificacion_por_ubicacion)"
      ],
      "metadata": {
        "colab": {
          "base_uri": "https://localhost:8080/"
        },
        "id": "SqQ4P5OsnTQm",
        "outputId": "313f2a19-9a1d-4ad7-9224-967b2998b6e5"
      },
      "execution_count": 362,
      "outputs": [
        {
          "output_type": "stream",
          "name": "stdout",
          "text": [
            "  ubicacion  Promedio de Calificación  Inmuebles\n",
            "0  envigado                  4.776889         45\n",
            "2  medellín                  4.723333         12\n",
            "1    itagüi                  4.430000          1\n"
          ]
        }
      ]
    }
  ]
}